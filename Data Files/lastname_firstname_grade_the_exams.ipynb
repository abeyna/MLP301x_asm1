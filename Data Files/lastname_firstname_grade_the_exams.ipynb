{
 "cells": [
  {
   "cell_type": "code",
   "execution_count": 1,
   "id": "3d6116c5",
   "metadata": {},
   "outputs": [],
   "source": [
    "import numpy as np\n",
    "import pandas as pd"
   ]
  },
  {
   "cell_type": "code",
   "execution_count": 2,
   "id": "fc5ec5c9",
   "metadata": {},
   "outputs": [],
   "source": [
    "import re"
   ]
  },
  {
   "cell_type": "code",
   "execution_count": 3,
   "id": "d53b012e",
   "metadata": {},
   "outputs": [
    {
     "ename": "KeyboardInterrupt",
     "evalue": "Interrupted by user",
     "output_type": "error",
     "traceback": [
      "\u001b[0;31m---------------------------------------------------------------------------\u001b[0m",
      "\u001b[0;31mKeyboardInterrupt\u001b[0m                         Traceback (most recent call last)",
      "\u001b[0;32m/var/folders/53/w75rnpy541j7jz2x6y8mw7pw0000gn/T/ipykernel_8320/3236617931.py\u001b[0m in \u001b[0;36m<module>\u001b[0;34m\u001b[0m\n\u001b[1;32m      1\u001b[0m \u001b[0;31m# Name of the file.\u001b[0m\u001b[0;34m\u001b[0m\u001b[0;34m\u001b[0m\u001b[0m\n\u001b[0;32m----> 2\u001b[0;31m \u001b[0mfilename\u001b[0m \u001b[0;34m=\u001b[0m \u001b[0minput\u001b[0m\u001b[0;34m(\u001b[0m\u001b[0;34m\"Enter a filename: \"\u001b[0m\u001b[0;34m)\u001b[0m\u001b[0;34m\u001b[0m\u001b[0;34m\u001b[0m\u001b[0m\n\u001b[0m\u001b[1;32m      3\u001b[0m \u001b[0;34m\u001b[0m\u001b[0m\n\u001b[1;32m      4\u001b[0m \u001b[0;31m# Create raw dataframe with one column.\u001b[0m\u001b[0;34m\u001b[0m\u001b[0;34m\u001b[0m\u001b[0m\n\u001b[1;32m      5\u001b[0m \u001b[0;32mtry\u001b[0m\u001b[0;34m:\u001b[0m\u001b[0;34m\u001b[0m\u001b[0;34m\u001b[0m\u001b[0m\n",
      "\u001b[0;32m~/opt/anaconda3/envs/abeyn/lib/python3.10/site-packages/ipykernel/kernelbase.py\u001b[0m in \u001b[0;36mraw_input\u001b[0;34m(self, prompt)\u001b[0m\n\u001b[1;32m   1004\u001b[0m                 \u001b[0;34m\"raw_input was called, but this frontend does not support input requests.\"\u001b[0m\u001b[0;34m\u001b[0m\u001b[0;34m\u001b[0m\u001b[0m\n\u001b[1;32m   1005\u001b[0m             )\n\u001b[0;32m-> 1006\u001b[0;31m         return self._input_request(\n\u001b[0m\u001b[1;32m   1007\u001b[0m             \u001b[0mstr\u001b[0m\u001b[0;34m(\u001b[0m\u001b[0mprompt\u001b[0m\u001b[0;34m)\u001b[0m\u001b[0;34m,\u001b[0m\u001b[0;34m\u001b[0m\u001b[0;34m\u001b[0m\u001b[0m\n\u001b[1;32m   1008\u001b[0m             \u001b[0mself\u001b[0m\u001b[0;34m.\u001b[0m\u001b[0m_parent_ident\u001b[0m\u001b[0;34m[\u001b[0m\u001b[0;34m\"shell\"\u001b[0m\u001b[0;34m]\u001b[0m\u001b[0;34m,\u001b[0m\u001b[0;34m\u001b[0m\u001b[0;34m\u001b[0m\u001b[0m\n",
      "\u001b[0;32m~/opt/anaconda3/envs/abeyn/lib/python3.10/site-packages/ipykernel/kernelbase.py\u001b[0m in \u001b[0;36m_input_request\u001b[0;34m(self, prompt, ident, parent, password)\u001b[0m\n\u001b[1;32m   1049\u001b[0m             \u001b[0;32mexcept\u001b[0m \u001b[0mKeyboardInterrupt\u001b[0m\u001b[0;34m:\u001b[0m\u001b[0;34m\u001b[0m\u001b[0;34m\u001b[0m\u001b[0m\n\u001b[1;32m   1050\u001b[0m                 \u001b[0;31m# re-raise KeyboardInterrupt, to truncate traceback\u001b[0m\u001b[0;34m\u001b[0m\u001b[0;34m\u001b[0m\u001b[0m\n\u001b[0;32m-> 1051\u001b[0;31m                 \u001b[0;32mraise\u001b[0m \u001b[0mKeyboardInterrupt\u001b[0m\u001b[0;34m(\u001b[0m\u001b[0;34m\"Interrupted by user\"\u001b[0m\u001b[0;34m)\u001b[0m \u001b[0;32mfrom\u001b[0m \u001b[0;32mNone\u001b[0m\u001b[0;34m\u001b[0m\u001b[0;34m\u001b[0m\u001b[0m\n\u001b[0m\u001b[1;32m   1052\u001b[0m             \u001b[0;32mexcept\u001b[0m \u001b[0mException\u001b[0m\u001b[0;34m:\u001b[0m\u001b[0;34m\u001b[0m\u001b[0;34m\u001b[0m\u001b[0m\n\u001b[1;32m   1053\u001b[0m                 \u001b[0mself\u001b[0m\u001b[0;34m.\u001b[0m\u001b[0mlog\u001b[0m\u001b[0;34m.\u001b[0m\u001b[0mwarning\u001b[0m\u001b[0;34m(\u001b[0m\u001b[0;34m\"Invalid Message:\"\u001b[0m\u001b[0;34m,\u001b[0m \u001b[0mexc_info\u001b[0m\u001b[0;34m=\u001b[0m\u001b[0;32mTrue\u001b[0m\u001b[0;34m)\u001b[0m\u001b[0;34m\u001b[0m\u001b[0;34m\u001b[0m\u001b[0m\n",
      "\u001b[0;31mKeyboardInterrupt\u001b[0m: Interrupted by user"
     ]
    }
   ],
   "source": [
    "# Name of the file.\n",
    "filename = input(\"Enter a filename: \")\n",
    "\n",
    "# Create raw dataframe with one column.\n",
    "try:\n",
    "    df_raw = pd.read_csv(filename, sep=\" \", header=None)\n",
    "except:\n",
    "    print(\"File cannot be found!\")"
   ]
  },
  {
   "cell_type": "code",
   "execution_count": null,
   "id": "c9720780",
   "metadata": {},
   "outputs": [],
   "source": [
    "print(\"**** ANALYZING ****\")\n",
    "\n",
    "# Create general dataframe from raw with 'Student Code' column separated with the rest.\n",
    "df_general = df_raw[0].str.split(',', n=1, expand=True)\n",
    "df_general.rename(columns={0: \"Student Code\", 1: \"Answers\"}, inplace=True)"
   ]
  },
  {
   "cell_type": "code",
   "execution_count": null,
   "id": "7819c7e5",
   "metadata": {},
   "outputs": [],
   "source": [
    "# Convert Answers column to numpy array.\n",
    "def to_array(answer_str):\n",
    "    return np.array(answer_str.split(','))"
   ]
  },
  {
   "cell_type": "code",
   "execution_count": null,
   "id": "42a25773",
   "metadata": {},
   "outputs": [],
   "source": [
    "df_general['Answers'] = df_general['Answers'].apply(to_array)"
   ]
  },
  {
   "cell_type": "code",
   "execution_count": null,
   "id": "0299be01",
   "metadata": {},
   "outputs": [],
   "source": [
    "# Check valid Student Code from df_raw for display to console.\n",
    "def check_code(code):\n",
    "    if not re.findall(\"^N[0-9]{8}\", code[0:9]):\n",
    "        print(code)\n",
    "        return code"
   ]
  },
  {
   "cell_type": "code",
   "execution_count": null,
   "id": "f2ba2cb9",
   "metadata": {},
   "outputs": [],
   "source": [
    "# Check valid data from df_raw for display to console.\n",
    "def check_data(raw_str):\n",
    "    if len(raw_str.split(',')) != 26:\n",
    "        print(raw_str)\n",
    "        return raw_str"
   ]
  },
  {
   "cell_type": "code",
   "execution_count": null,
   "id": "c3d1f521",
   "metadata": {},
   "outputs": [],
   "source": [
    "# Check valid Student Code from df_general for Valid column.\n",
    "def find_invalid_code(student_code):\n",
    "    if not re.findall(\"^N[0-9]{8}\", student_code):\n",
    "        return False\n",
    "    else:\n",
    "        return True"
   ]
  },
  {
   "cell_type": "code",
   "execution_count": null,
   "id": "350f46e4",
   "metadata": {},
   "outputs": [],
   "source": [
    "# Check valid Answers array from df_general for Valid column.\n",
    "def find_invalid_answer(answer_arr):\n",
    "    if answer_arr.size != 25:\n",
    "        return False\n",
    "    else:\n",
    "        return True"
   ]
  },
  {
   "cell_type": "code",
   "execution_count": null,
   "id": "1f41c646",
   "metadata": {},
   "outputs": [],
   "source": [
    "# Create Valid column to distinguish valid rows.\n",
    "df_general[\"Valid\"] = df_general[\"Student Code\"].apply(find_invalid_code) & df_general[\"Answers\"].apply(\n",
    "    find_invalid_answer)"
   ]
  },
  {
   "cell_type": "code",
   "execution_count": null,
   "id": "c3a315a3",
   "metadata": {},
   "outputs": [],
   "source": [
    "# Count total valid rows.\n",
    "valid_lines = df_general[\"Valid\"].values.sum()\n",
    "\n",
    "# Count total invalid rows.\n",
    "invalid_lines = df_general[\"Student Code\"].count() - valid_lines"
   ]
  },
  {
   "cell_type": "code",
   "execution_count": null,
   "id": "f98bf6c8",
   "metadata": {},
   "outputs": [],
   "source": [
    "# Display to console analysis result.\n",
    "if invalid_lines == 0:\n",
    "    print(\"No errors found!\")\n",
    "else:\n",
    "    print(\"- Invalid line of data: does not contain exactly 26 values:\")\n",
    "    df_raw[0].apply(check_data)\n",
    "    print(\"- Invalid line of data: N# is invalid\")\n",
    "    df_raw[0].apply(check_code)"
   ]
  },
  {
   "cell_type": "code",
   "execution_count": null,
   "id": "f9600d37",
   "metadata": {},
   "outputs": [],
   "source": [
    "# Display total report to console.\n",
    "print(\"\\n**** REPORT ****\")\n",
    "print(f\"Total valid lines of data: {valid_lines}\")\n",
    "print(f\"Total invalid lines of data: {invalid_lines}\")"
   ]
  },
  {
   "cell_type": "code",
   "execution_count": null,
   "id": "ec79fc14",
   "metadata": {},
   "outputs": [],
   "source": [
    "# Count correct answer when compare to answer_key in array.\n",
    "def count_correct_answer(answer_arr):\n",
    "    answer_key = np.array(\"B,A,D,D,C,B,D,A,C,C,D,B,A,B,A,C,B,D,A,C,A,A,B,D,D\".split(','))\n",
    "    correct_answers = answer_key == answer_arr\n",
    "    return np.count_nonzero(correct_answers == True)"
   ]
  },
  {
   "cell_type": "code",
   "execution_count": null,
   "id": "82794025",
   "metadata": {},
   "outputs": [],
   "source": [
    " Count blank (empty) answers in array.\n",
    "def count_blank_answer(answer_arr):\n",
    "    blank_answers = np.where(answer_arr == '')\n",
    "    return np.count_nonzero(blank_answers)"
   ]
  },
  {
   "cell_type": "code",
   "execution_count": null,
   "id": "6be5492a",
   "metadata": {},
   "outputs": [],
   "source": [
    "# Create valid dataframe only for valid data.\n",
    "df_valid = df_general.loc[(df_general[\"Valid\"]), [\"Student Code\", \"Answers\"]]\n",
    "\n",
    "# Create Correct Total column in df_valid.\n",
    "df_valid[\"Correct Total\"] = df_valid[\"Answers\"].apply(count_correct_answer)\n",
    "\n",
    "# Create Blank Total column in df_valid.\n",
    "df_valid[\"Blank Total\"] = df_valid[\"Answers\"].apply(count_blank_answer)\n",
    "\n",
    "# Create Incorrect Total column in df_valid.\n",
    "df_valid[\"Incorrect Total\"] = 25 - df_valid[\"Correct Total\"] - df_valid[\"Blank Total\"]\n",
    "\n",
    "# Calculate grade for each Student.\n",
    "df_valid[\"Grades\"] = df_valid[\"Correct Total\"] * 4 + df_valid[\"Incorrect Total\"] * (-1)"
   ]
  },
  {
   "cell_type": "code",
   "execution_count": null,
   "id": "bd627272",
   "metadata": {},
   "outputs": [],
   "source": [
    "# Report mean, the highest score, the lowest score, range of scores and median score in dataframe.\n",
    "print(f\"Mean (average) score: {round(df_valid['Grades'].mean(), 2)}\")\n",
    "print(f\"The Highest score: {df_valid['Grades'].max()}\")\n",
    "print(f\"The Lowest score: {df_valid['Grades'].min()}\")\n",
    "print(f\"Range of scores: {df_valid['Grades'].max() - df_valid['Grades'].min()}\")\n",
    "print(f\"Median score: {int(df_valid['Grades'].median())}\")"
   ]
  },
  {
   "cell_type": "code",
   "execution_count": null,
   "id": "f5b9f8f5",
   "metadata": {},
   "outputs": [],
   "source": [
    "# Create Report dataframe for export to txt file.\n",
    "df_report = df_valid[['Student Code', 'Grades']]\n",
    "df_report.to_csv(f'{filename.replace(\".txt\",\"\")}_grades.txt', sep=',', header=None, index=None)"
   ]
  },
  {
   "cell_type": "code",
   "execution_count": null,
   "id": "50aa2b8e",
   "metadata": {},
   "outputs": [],
   "source": []
  }
 ],
 "metadata": {
  "kernelspec": {
   "display_name": "Python 3 (ipykernel)",
   "language": "python",
   "name": "python3"
  },
  "language_info": {
   "codemirror_mode": {
    "name": "ipython",
    "version": 3
   },
   "file_extension": ".py",
   "mimetype": "text/x-python",
   "name": "python",
   "nbconvert_exporter": "python",
   "pygments_lexer": "ipython3",
   "version": "3.10.0"
  }
 },
 "nbformat": 4,
 "nbformat_minor": 5
}
